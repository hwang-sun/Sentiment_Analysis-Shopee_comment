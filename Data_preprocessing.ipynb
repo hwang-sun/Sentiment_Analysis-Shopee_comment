{
 "cells": [
  {
   "cell_type": "code",
   "execution_count": 28,
   "metadata": {
    "colab": {
     "base_uri": "https://localhost:8080/"
    },
    "executionInfo": {
     "elapsed": 4396,
     "status": "ok",
     "timestamp": 1675766918197,
     "user": {
      "displayName": "Sun",
      "userId": "12631150555474276602"
     },
     "user_tz": -420
    },
    "id": "cGy1fE8h2g2m",
    "outputId": "0313c6ae-f99f-4370-ad5d-2d6914f3ab69"
   },
   "outputs": [],
   "source": [
    "# from google.colab import drive\n",
    "# drive.mount(\"/content/gdrive\", force_remount=True)\n",
    "\n",
    "\n",
    "# %cd '/content/gdrive/MyDrive/LDS0_k282_Online_NguyenHoangThien/Project_1'"
   ]
  },
  {
   "cell_type": "code",
   "execution_count": 29,
   "metadata": {
    "colab": {
     "base_uri": "https://localhost:8080/"
    },
    "executionInfo": {
     "elapsed": 21208,
     "status": "ok",
     "timestamp": 1675766939401,
     "user": {
      "displayName": "Sun",
      "userId": "12631150555474276602"
     },
     "user_tz": -420
    },
    "id": "63Bhl4Ey2euX",
    "outputId": "24544b40-6c7f-48c2-cc53-a8a036a3937c"
   },
   "outputs": [],
   "source": [
    "# !pip install underthesea\n",
    "# !pip install demoji\n",
    "# !pip install pyvi"
   ]
  },
  {
   "cell_type": "code",
   "execution_count": 15,
   "metadata": {
    "executionInfo": {
     "elapsed": 497,
     "status": "ok",
     "timestamp": 1675766939894,
     "user": {
      "displayName": "Sun",
      "userId": "12631150555474276602"
     },
     "user_tz": -420
    },
    "id": "NoveTrE9tGAA"
   },
   "outputs": [],
   "source": [
    "import pandas as pd\n",
    "import numpy as np\n",
    "from underthesea import word_tokenize, pos_tag, sent_tokenize\n",
    "import regex\n",
    "import demoji\n",
    "from pyvi import ViPosTagger, ViTokenizer\n",
    "import string"
   ]
  },
  {
   "cell_type": "code",
   "execution_count": 16,
   "metadata": {
    "executionInfo": {
     "elapsed": 5,
     "status": "ok",
     "timestamp": 1675766939895,
     "user": {
      "displayName": "Sun",
      "userId": "12631150555474276602"
     },
     "user_tz": -420
    },
    "id": "98pIaiUdtGAE"
   },
   "outputs": [],
   "source": [
    "##LOAD EMOJICON\n",
    "file = open('files/emojicon.txt', 'r', encoding=\"utf8\")\n",
    "emoji_lst = file.read().split('\\n')\n",
    "emoji_dict = {}\n",
    "for line in emoji_lst:\n",
    "    key, value = line.split('\\t')\n",
    "    emoji_dict[key] = str(value)\n",
    "file.close()\n",
    "#################\n",
    "#LOAD TEENCODE\n",
    "file = open('files/teencode.txt', 'r', encoding=\"utf8\")\n",
    "teen_lst = file.read().split('\\n')\n",
    "teen_dict = {}\n",
    "for line in teen_lst:\n",
    "    key, value = line.split('\\t')\n",
    "    teen_dict[key] = str(value)\n",
    "file.close()\n",
    "###############\n",
    "#LOAD TRANSLATE ENGLISH -> VNMESE\n",
    "file = open('files/english-vnmese.txt', 'r', encoding=\"utf8\")\n",
    "english_lst = file.read().split('\\n')\n",
    "english_dict = {}\n",
    "for line in english_lst:\n",
    "    key, value = line.split('\\t')\n",
    "    english_dict[key] = str(value)\n",
    "file.close()\n",
    "################\n",
    "#LOAD wrong words\n",
    "file = open('files/wrong-word.txt', 'r', encoding=\"utf8\")\n",
    "wrong_lst = file.read().split('\\n')\n",
    "file.close()\n",
    "#################\n",
    "#LOAD STOPWORDS\n",
    "file = open('files/vietnamese-stopwords.txt', 'r', encoding=\"utf8\")\n",
    "stopwords_lst = file.read().split('\\n')\n",
    "file.close()"
   ]
  },
  {
   "cell_type": "code",
   "execution_count": 13,
   "metadata": {},
   "outputs": [
    {
     "data": {
      "text/plain": [
       "'cười'"
      ]
     },
     "execution_count": 13,
     "metadata": {},
     "output_type": "execute_result"
    }
   ],
   "source": [
    "emoji_dict['😂']"
   ]
  },
  {
   "cell_type": "code",
   "execution_count": 17,
   "metadata": {},
   "outputs": [
    {
     "data": {
      "text/plain": [
       "'không'"
      ]
     },
     "execution_count": 17,
     "metadata": {},
     "output_type": "execute_result"
    }
   ],
   "source": [
    "teen_dict['ko']"
   ]
  },
  {
   "cell_type": "code",
   "execution_count": 18,
   "metadata": {
    "executionInfo": {
     "elapsed": 4,
     "status": "ok",
     "timestamp": 1675766939895,
     "user": {
      "displayName": "Sun",
      "userId": "12631150555474276602"
     },
     "user_tz": -420
    },
    "id": "Od1WjpEjtGAE"
   },
   "outputs": [],
   "source": [
    "def process_text(text, emoji_dict, teen_dict, wrong_lst):\n",
    "    document = text.lower()\n",
    "    document = document.replace(\"’\",'')\n",
    "    document = regex.sub(r'\\.+', \".\", document)\n",
    "    new_sentence =''\n",
    "    for sentence in sent_tokenize(document):\n",
    "        # if not(sentence.isascii()):\n",
    "        ###### CONVERT EMOJICON\n",
    "        sentence = ''.join(emoji_dict[word]+' ' if word in emoji_dict else word for word in list(sentence))\n",
    "        ###### CONVERT TEENCODE\n",
    "        sentence = ' '.join(teen_dict[word] if word in teen_dict else word for word in sentence.split())\n",
    "        ###### DEL Punctuation & Numbers\n",
    "        pattern = r'(?i)\\b[a-záàảãạăắằẳẵặâấầẩẫậéèẻẽẹêếềểễệóòỏõọôốồổỗộơớờởỡợíìỉĩịúùủũụưứừửữựýỳỷỹỵđ]+\\b'\n",
    "        sentence = ' '.join(regex.findall(pattern,sentence))\n",
    "        ###### DEL wrong words   \n",
    "        sentence = ' '.join('' if word in wrong_lst else word for word in sentence.split())\n",
    "        new_sentence = new_sentence+ sentence + '. '                    \n",
    "    document = new_sentence  \n",
    "    #print(document)\n",
    "    ###### DEL excess blank space\n",
    "    document = regex.sub(r'\\s+', ' ', document).strip()\n",
    "    return document"
   ]
  },
  {
   "cell_type": "code",
   "execution_count": 24,
   "metadata": {
    "executionInfo": {
     "elapsed": 4,
     "status": "ok",
     "timestamp": 1675766939895,
     "user": {
      "displayName": "Sun",
      "userId": "12631150555474276602"
     },
     "user_tz": -420
    },
    "id": "bnAc6joutGAF"
   },
   "outputs": [],
   "source": [
    "example = '''1m6 50kg size M khá vừa vặn nhưng ko có được cơ nên nhìn cx thường 😊. Nâu với trắng vải dày hơn đỏ, trắng với đỏ cổ cao hơn nâu một tí, trắng đẹp 👍. \n",
    "Vai áo chưa đẹp lắm. Khá ổn so với giá tiền'''"
   ]
  },
  {
   "cell_type": "code",
   "execution_count": 25,
   "metadata": {
    "executionInfo": {
     "elapsed": 498,
     "status": "ok",
     "timestamp": 1675766940389,
     "user": {
      "displayName": "Sun",
      "userId": "12631150555474276602"
     },
     "user_tz": -420
    },
    "id": "1C_ATXVq1OCf"
   },
   "outputs": [
    {
     "data": {
      "text/plain": [
       "'khá vừa vặn nhưng không có được cơ nên nhìn cũng thường cười. nâu với trắng vải dày hơn đỏ trắng với đỏ cổ hơn nâu một tí trắng đẹp thích. áo chưa đẹp lắm. khá ổn với giá tiền.'"
      ]
     },
     "execution_count": 25,
     "metadata": {},
     "output_type": "execute_result"
    }
   ],
   "source": [
    "document = process_text(example, emoji_dict, teen_dict, wrong_lst)\n",
    "document"
   ]
  },
  {
   "cell_type": "code",
   "execution_count": 26,
   "metadata": {
    "executionInfo": {
     "elapsed": 16,
     "status": "ok",
     "timestamp": 1675766940389,
     "user": {
      "displayName": "Sun",
      "userId": "12631150555474276602"
     },
     "user_tz": -420
    },
    "id": "So0KldAgtGAG"
   },
   "outputs": [],
   "source": [
    "# Chuẩn hóa unicode tiếng việt\n",
    "def loaddicchar():\n",
    "    uniChars = \"àáảãạâầấẩẫậăằắẳẵặèéẻẽẹêềếểễệđìíỉĩịòóỏõọôồốổỗộơờớởỡợùúủũụưừứửữựỳýỷỹỵÀÁẢÃẠÂẦẤẨẪẬĂẰẮẲẴẶÈÉẺẼẸÊỀẾỂỄỆĐÌÍỈĨỊÒÓỎÕỌÔỒỐỔỖỘƠỜỚỞỠỢÙÚỦŨỤƯỪỨỬỮỰỲÝỶỸỴÂĂĐÔƠƯ\"\n",
    "    unsignChars = \"aaaaaaaaaaaaaaaaaeeeeeeeeeeediiiiiooooooooooooooooouuuuuuuuuuuyyyyyAAAAAAAAAAAAAAAAAEEEEEEEEEEEDIIIOOOOOOOOOOOOOOOOOOOUUUUUUUUUUUYYYYYAADOOU\"\n",
    "\n",
    "    dic = {}\n",
    "    char1252 = 'à|á|ả|ã|ạ|ầ|ấ|ẩ|ẫ|ậ|ằ|ắ|ẳ|ẵ|ặ|è|é|ẻ|ẽ|ẹ|ề|ế|ể|ễ|ệ|ì|í|ỉ|ĩ|ị|ò|ó|ỏ|õ|ọ|ồ|ố|ổ|ỗ|ộ|ờ|ớ|ở|ỡ|ợ|ù|ú|ủ|ũ|ụ|ừ|ứ|ử|ữ|ự|ỳ|ý|ỷ|ỹ|ỵ|À|Á|Ả|Ã|Ạ|Ầ|Ấ|Ẩ|Ẫ|Ậ|Ằ|Ắ|Ẳ|Ẵ|Ặ|È|É|Ẻ|Ẽ|Ẹ|Ề|Ế|Ể|Ễ|Ệ|Ì|Í|Ỉ|Ĩ|Ị|Ò|Ó|Ỏ|Õ|Ọ|Ồ|Ố|Ổ|Ỗ|Ộ|Ờ|Ớ|Ở|Ỡ|Ợ|Ù|Ú|Ủ|Ũ|Ụ|Ừ|Ứ|Ử|Ữ|Ự|Ỳ|Ý|Ỷ|Ỹ|Ỵ'.split(\n",
    "        '|')\n",
    "    charutf8 = \"à|á|ả|ã|ạ|ầ|ấ|ẩ|ẫ|ậ|ằ|ắ|ẳ|ẵ|ặ|è|é|ẻ|ẽ|ẹ|ề|ế|ể|ễ|ệ|ì|í|ỉ|ĩ|ị|ò|ó|ỏ|õ|ọ|ồ|ố|ổ|ỗ|ộ|ờ|ớ|ở|ỡ|ợ|ù|ú|ủ|ũ|ụ|ừ|ứ|ử|ữ|ự|ỳ|ý|ỷ|ỹ|ỵ|À|Á|Ả|Ã|Ạ|Ầ|Ấ|Ẩ|Ẫ|Ậ|Ằ|Ắ|Ẳ|Ẵ|Ặ|È|É|Ẻ|Ẽ|Ẹ|Ề|Ế|Ể|Ễ|Ệ|Ì|Í|Ỉ|Ĩ|Ị|Ò|Ó|Ỏ|Õ|Ọ|Ồ|Ố|Ổ|Ỗ|Ộ|Ờ|Ớ|Ở|Ỡ|Ợ|Ù|Ú|Ủ|Ũ|Ụ|Ừ|Ứ|Ử|Ữ|Ự|Ỳ|Ý|Ỷ|Ỹ|Ỵ\".split(\n",
    "        '|')\n",
    "    for i in range(len(char1252)):\n",
    "        dic[char1252[i]] = charutf8[i]\n",
    "    return dic\n",
    " \n",
    "# Đưa toàn bộ dữ liệu qua hàm này để chuẩn hóa lại\n",
    "def covert_unicode(txt):\n",
    "    dicchar = loaddicchar()\n",
    "    return regex.sub(\n",
    "        r'à|á|ả|ã|ạ|ầ|ấ|ẩ|ẫ|ậ|ằ|ắ|ẳ|ẵ|ặ|è|é|ẻ|ẽ|ẹ|ề|ế|ể|ễ|ệ|ì|í|ỉ|ĩ|ị|ò|ó|ỏ|õ|ọ|ồ|ố|ổ|ỗ|ộ|ờ|ớ|ở|ỡ|ợ|ù|ú|ủ|ũ|ụ|ừ|ứ|ử|ữ|ự|ỳ|ý|ỷ|ỹ|ỵ|À|Á|Ả|Ã|Ạ|Ầ|Ấ|Ẩ|Ẫ|Ậ|Ằ|Ắ|Ẳ|Ẵ|Ặ|È|É|Ẻ|Ẽ|Ẹ|Ề|Ế|Ể|Ễ|Ệ|Ì|Í|Ỉ|Ĩ|Ị|Ò|Ó|Ỏ|Õ|Ọ|Ồ|Ố|Ổ|Ỗ|Ộ|Ờ|Ớ|Ở|Ỡ|Ợ|Ù|Ú|Ủ|Ũ|Ụ|Ừ|Ứ|Ử|Ữ|Ự|Ỳ|Ý|Ỷ|Ỹ|Ỵ',\n",
    "        lambda x: dicchar[x.group()], txt)"
   ]
  },
  {
   "cell_type": "code",
   "execution_count": 27,
   "metadata": {
    "colab": {
     "base_uri": "https://localhost:8080/",
     "height": 54
    },
    "executionInfo": {
     "elapsed": 16,
     "status": "ok",
     "timestamp": 1675766940390,
     "user": {
      "displayName": "Sun",
      "userId": "12631150555474276602"
     },
     "user_tz": -420
    },
    "id": "AYPn-iqD6Xh7",
    "outputId": "0d652c8f-02f9-42ac-9d9b-4c00694be3d8"
   },
   "outputs": [
    {
     "data": {
      "text/plain": [
       "'khá vừa vặn nhưng không có được cơ nên nhìn cũng thường cười. nâu với trắng vải dày hơn đỏ trắng với đỏ cổ hơn nâu một tí trắng đẹp thích. áo chưa đẹp lắm. khá ổn với giá tiền.'"
      ]
     },
     "execution_count": 27,
     "metadata": {},
     "output_type": "execute_result"
    }
   ],
   "source": [
    "document = covert_unicode(document)\n",
    "document"
   ]
  },
  {
   "cell_type": "code",
   "execution_count": 28,
   "metadata": {
    "executionInfo": {
     "elapsed": 15,
     "status": "ok",
     "timestamp": 1675766940391,
     "user": {
      "displayName": "Sun",
      "userId": "12631150555474276602"
     },
     "user_tz": -420
    },
    "id": "92LeWTwdtGAI"
   },
   "outputs": [],
   "source": [
    "# có thể bổ sung thêm các từ: chẳng, chả...\n",
    "def process_special_word(text):\n",
    "    new_text = ''\n",
    "    text_lst = text.split()\n",
    "    i= 0\n",
    "    if ('không' or 'chẳng') in text_lst:\n",
    "        while i <= len(text_lst) - 1:\n",
    "            word = text_lst[i]\n",
    "            #print(word)\n",
    "            #print(i)\n",
    "            if  word == 'không' or word == 'không được' or word == 'chẳng':\n",
    "                next_idx = i+1\n",
    "                if next_idx <= len(text_lst) -1:\n",
    "                    word = word +'_'+ text_lst[next_idx]\n",
    "                i= next_idx + 1\n",
    "            else:\n",
    "                i = i+1\n",
    "            new_text = new_text + word + ' '\n",
    "    else:\n",
    "        new_text = text\n",
    "    return new_text.strip()"
   ]
  },
  {
   "cell_type": "code",
   "execution_count": 29,
   "metadata": {
    "colab": {
     "base_uri": "https://localhost:8080/",
     "height": 54
    },
    "executionInfo": {
     "elapsed": 15,
     "status": "ok",
     "timestamp": 1675766940392,
     "user": {
      "displayName": "Sun",
      "userId": "12631150555474276602"
     },
     "user_tz": -420
    },
    "id": "5tuyUDqX8dkj",
    "outputId": "cf1aa7d5-3b5d-4589-8298-a98067230d92"
   },
   "outputs": [
    {
     "data": {
      "text/plain": [
       "'khá vừa vặn nhưng không_có được cơ nên nhìn cũng thường cười. nâu với trắng vải dày hơn đỏ trắng với đỏ cổ hơn nâu một tí trắng đẹp thích. áo chưa đẹp lắm. khá ổn với giá tiền.'"
      ]
     },
     "execution_count": 29,
     "metadata": {},
     "output_type": "execute_result"
    }
   ],
   "source": [
    "x = process_special_word(document)\n",
    "x"
   ]
  },
  {
   "cell_type": "code",
   "execution_count": 30,
   "metadata": {
    "executionInfo": {
     "elapsed": 17,
     "status": "ok",
     "timestamp": 1675766940394,
     "user": {
      "displayName": "Sun",
      "userId": "12631150555474276602"
     },
     "user_tz": -420
    },
    "id": "Y4C_qefxtGAJ"
   },
   "outputs": [],
   "source": [
    "def process_postag_thesea(text):\n",
    "    new_document = ''\n",
    "    for sentence in sent_tokenize(text):\n",
    "        sentence = sentence.replace('.','')\n",
    "        ###### POS tag\n",
    "        lst_word_type = ['A','AB','V','VB','VY','R']\n",
    "        sentence = ' '.join( word[0] if word[1].upper() in lst_word_type else '' for word in pos_tag(process_special_word(word_tokenize(sentence, format=\"text\"))))\n",
    "        new_document = new_document + sentence + ' '\n",
    "    ###### DEL excess blank space\n",
    "    new_document = regex.sub(r'\\s+', ' ', new_document).strip()\n",
    "    return new_document"
   ]
  },
  {
   "cell_type": "code",
   "execution_count": 31,
   "metadata": {
    "colab": {
     "base_uri": "https://localhost:8080/",
     "height": 36
    },
    "executionInfo": {
     "elapsed": 16,
     "status": "ok",
     "timestamp": 1675766940394,
     "user": {
      "displayName": "Sun",
      "userId": "12631150555474276602"
     },
     "user_tz": -420
    },
    "id": "0MuAMP3J9fNH",
    "outputId": "b86217e8-73b2-4d5c-ea67-dcff5068b286"
   },
   "outputs": [
    {
     "data": {
      "text/plain": [
       "'khá vừa_vặn không_có được cơ nhìn cũng thường cười nâu trắng dày hơn đỏ trắng đỏ cổ hơn trắng đẹp thích chưa đẹp lắm khá ổn'"
      ]
     },
     "execution_count": 31,
     "metadata": {},
     "output_type": "execute_result"
    }
   ],
   "source": [
    "document = process_postag_thesea(document)\n",
    "document"
   ]
  },
  {
   "cell_type": "code",
   "execution_count": 32,
   "metadata": {
    "executionInfo": {
     "elapsed": 16,
     "status": "ok",
     "timestamp": 1675766940395,
     "user": {
      "displayName": "Sun",
      "userId": "12631150555474276602"
     },
     "user_tz": -420
    },
    "id": "cWPpD0qqtGAK"
   },
   "outputs": [],
   "source": [
    "def remove_stopword(text, stopwords):\n",
    "    ###### REMOVE stop words\n",
    "    document = ' '.join('' if word in stopwords else word for word in text.split())\n",
    "    #print(document)\n",
    "    ###### DEL excess blank space\n",
    "    document = regex.sub(r'\\s+', ' ', document).strip()\n",
    "    return document"
   ]
  },
  {
   "cell_type": "code",
   "execution_count": 33,
   "metadata": {
    "colab": {
     "base_uri": "https://localhost:8080/",
     "height": 36
    },
    "executionInfo": {
     "elapsed": 17,
     "status": "ok",
     "timestamp": 1675766940396,
     "user": {
      "displayName": "Sun",
      "userId": "12631150555474276602"
     },
     "user_tz": -420
    },
    "id": "EKAhcW9C9jsB",
    "outputId": "736535a0-a25e-47b9-a4be-7e5c8dfd3527"
   },
   "outputs": [
    {
     "data": {
      "text/plain": [
       "'vừa_vặn cười nâu trắng dày đỏ trắng đỏ cổ trắng đẹp thích đẹp lắm ổn'"
      ]
     },
     "execution_count": 33,
     "metadata": {},
     "output_type": "execute_result"
    }
   ],
   "source": [
    "document = remove_stopword(document, stopwords_lst)\n",
    "document"
   ]
  },
  {
   "cell_type": "code",
   "execution_count": 34,
   "metadata": {
    "executionInfo": {
     "elapsed": 5141,
     "status": "ok",
     "timestamp": 1675766945521,
     "user": {
      "displayName": "Sun",
      "userId": "12631150555474276602"
     },
     "user_tz": -420
    },
    "id": "CmKH7xbw-cvy"
   },
   "outputs": [],
   "source": [
    "df = pd.read_csv('Products_Shopee_comments.csv')"
   ]
  },
  {
   "cell_type": "code",
   "execution_count": 35,
   "metadata": {},
   "outputs": [
    {
     "data": {
      "text/plain": [
       "(1903157, 6)"
      ]
     },
     "execution_count": 35,
     "metadata": {},
     "output_type": "execute_result"
    }
   ],
   "source": [
    "df.shape"
   ]
  },
  {
   "cell_type": "code",
   "execution_count": 44,
   "metadata": {
    "colab": {
     "base_uri": "https://localhost:8080/"
    },
    "executionInfo": {
     "elapsed": 6,
     "status": "ok",
     "timestamp": 1675766945521,
     "user": {
      "displayName": "Sun",
      "userId": "12631150555474276602"
     },
     "user_tz": -420
    },
    "id": "c5dgs34QPAh4",
    "outputId": "caf8018c-5182-4142-bd84-3cb9c10f4ba8"
   },
   "outputs": [
    {
     "name": "stdout",
     "output_type": "stream",
     "text": [
      "Điện Thoại & Phụ Kiện: has 61233 values not null\n",
      "Máy Ảnh & Máy Quay Phim: has 3659 values not null\n",
      "Máy Tính & Laptop: has 10471 values not null\n",
      "Mẹ & Bé: has 74865 values not null\n",
      "Nhà Cửa & Đời Sống: has 11853 values not null\n",
      "Sắc Đẹp: has 871 values not null\n",
      "Thiết Bị Điện Tử: has 10772 values not null\n",
      "Thời Trang Nam: has 537950 values not null\n",
      "nan: has 0 values not null\n",
      "Thời Trang Nữ: has 229628 values not null\n"
     ]
    }
   ],
   "source": [
    "for cate in df.category.unique():\n",
    "    non_null = df[df.category == cate]['comment'].count()\n",
    "    print(f\"{cate}: has {non_null} values not null\")"
   ]
  },
  {
   "cell_type": "code",
   "execution_count": 62,
   "metadata": {
    "executionInfo": {
     "elapsed": 550,
     "status": "ok",
     "timestamp": 1675766946067,
     "user": {
      "displayName": "Sun",
      "userId": "12631150555474276602"
     },
     "user_tz": -420
    },
    "id": "KXTTOPGTO01G"
   },
   "outputs": [],
   "source": [
    "df = df.loc[df['category'] == 'Thời Trang Nữ']"
   ]
  },
  {
   "cell_type": "code",
   "execution_count": 63,
   "metadata": {
    "executionInfo": {
     "elapsed": 396,
     "status": "ok",
     "timestamp": 1675767098576,
     "user": {
      "displayName": "Sun",
      "userId": "12631150555474276602"
     },
     "user_tz": -420
    },
    "id": "RKFkghv8QlS_"
   },
   "outputs": [],
   "source": [
    "df.dropna(axis=0, inplace=True, subset=['comment'])"
   ]
  },
  {
   "cell_type": "code",
   "execution_count": 64,
   "metadata": {
    "colab": {
     "base_uri": "https://localhost:8080/",
     "height": 337
    },
    "executionInfo": {
     "elapsed": 6,
     "status": "ok",
     "timestamp": 1675767106201,
     "user": {
      "displayName": "Sun",
      "userId": "12631150555474276602"
     },
     "user_tz": -420
    },
    "id": "7Mi4T_IBgLR9",
    "outputId": "e9f9ed36-e519-4d72-b715-259b75c58b7c"
   },
   "outputs": [
    {
     "data": {
      "text/plain": [
       "Thời Trang Nữ    229628\n",
       "Name: category, dtype: int64"
      ]
     },
     "execution_count": 64,
     "metadata": {},
     "output_type": "execute_result"
    }
   ],
   "source": [
    "df.category.value_counts()"
   ]
  },
  {
   "cell_type": "code",
   "execution_count": 65,
   "metadata": {
    "colab": {
     "base_uri": "https://localhost:8080/"
    },
    "executionInfo": {
     "elapsed": 3,
     "status": "ok",
     "timestamp": 1675767121284,
     "user": {
      "displayName": "Sun",
      "userId": "12631150555474276602"
     },
     "user_tz": -420
    },
    "id": "CXYerzOYgOgs",
    "outputId": "69d63929-a977-4e2d-d082-8db2d0615063"
   },
   "outputs": [
    {
     "data": {
      "text/plain": [
       "(229628, 6)"
      ]
     },
     "execution_count": 65,
     "metadata": {},
     "output_type": "execute_result"
    }
   ],
   "source": [
    "df.shape"
   ]
  },
  {
   "cell_type": "code",
   "execution_count": 66,
   "metadata": {},
   "outputs": [
    {
     "data": {
      "text/html": [
       "<div>\n",
       "<style scoped>\n",
       "    .dataframe tbody tr th:only-of-type {\n",
       "        vertical-align: middle;\n",
       "    }\n",
       "\n",
       "    .dataframe tbody tr th {\n",
       "        vertical-align: top;\n",
       "    }\n",
       "\n",
       "    .dataframe thead th {\n",
       "        text-align: right;\n",
       "    }\n",
       "</style>\n",
       "<table border=\"1\" class=\"dataframe\">\n",
       "  <thead>\n",
       "    <tr style=\"text-align: right;\">\n",
       "      <th></th>\n",
       "      <th>product_id</th>\n",
       "      <th>category</th>\n",
       "      <th>sub_category</th>\n",
       "      <th>user</th>\n",
       "      <th>rating</th>\n",
       "      <th>comment</th>\n",
       "    </tr>\n",
       "  </thead>\n",
       "  <tbody>\n",
       "    <tr>\n",
       "      <th>1319050</th>\n",
       "      <td>0</td>\n",
       "      <td>Thời Trang Nữ</td>\n",
       "      <td>Áo khoác, Áo choàng &amp; Vest</td>\n",
       "      <td>q*****3</td>\n",
       "      <td>5</td>\n",
       "      <td>sản_phẩm đóng_gói đẹp shop tốt</td>\n",
       "    </tr>\n",
       "    <tr>\n",
       "      <th>1319052</th>\n",
       "      <td>0</td>\n",
       "      <td>Thời Trang Nữ</td>\n",
       "      <td>Áo khoác, Áo choàng &amp; Vest</td>\n",
       "      <td>0*****y</td>\n",
       "      <td>5</td>\n",
       "      <td>sản_phẩm đóng_gói đẹp shop tốt</td>\n",
       "    </tr>\n",
       "    <tr>\n",
       "      <th>1319054</th>\n",
       "      <td>0</td>\n",
       "      <td>Thời Trang Nữ</td>\n",
       "      <td>Áo khoác, Áo choàng &amp; Vest</td>\n",
       "      <td>minhanhnguyen807</td>\n",
       "      <td>5</td>\n",
       "      <td>sản_phẩm đóng_gói đẹp shop tốt</td>\n",
       "    </tr>\n",
       "    <tr>\n",
       "      <th>1319058</th>\n",
       "      <td>0</td>\n",
       "      <td>Thời Trang Nữ</td>\n",
       "      <td>Áo khoác, Áo choàng &amp; Vest</td>\n",
       "      <td>kimngnnguyn183</td>\n",
       "      <td>5</td>\n",
       "      <td>sản_phẩm đóng_gói đẹp shop tốt</td>\n",
       "    </tr>\n",
       "    <tr>\n",
       "      <th>1319062</th>\n",
       "      <td>0</td>\n",
       "      <td>Thời Trang Nữ</td>\n",
       "      <td>Áo khoác, Áo choàng &amp; Vest</td>\n",
       "      <td>.*****0</td>\n",
       "      <td>5</td>\n",
       "      <td>sản_phẩm đóng_gói đẹp shop tốt</td>\n",
       "    </tr>\n",
       "  </tbody>\n",
       "</table>\n",
       "</div>"
      ],
      "text/plain": [
       "         product_id       category                sub_category  \\\n",
       "1319050           0  Thời Trang Nữ  Áo khoác, Áo choàng & Vest   \n",
       "1319052           0  Thời Trang Nữ  Áo khoác, Áo choàng & Vest   \n",
       "1319054           0  Thời Trang Nữ  Áo khoác, Áo choàng & Vest   \n",
       "1319058           0  Thời Trang Nữ  Áo khoác, Áo choàng & Vest   \n",
       "1319062           0  Thời Trang Nữ  Áo khoác, Áo choàng & Vest   \n",
       "\n",
       "                     user  rating                         comment  \n",
       "1319050           q*****3       5  sản_phẩm đóng_gói đẹp shop tốt  \n",
       "1319052           0*****y       5  sản_phẩm đóng_gói đẹp shop tốt  \n",
       "1319054  minhanhnguyen807       5  sản_phẩm đóng_gói đẹp shop tốt  \n",
       "1319058    kimngnnguyn183       5  sản_phẩm đóng_gói đẹp shop tốt  \n",
       "1319062           .*****0       5  sản_phẩm đóng_gói đẹp shop tốt  "
      ]
     },
     "execution_count": 66,
     "metadata": {},
     "output_type": "execute_result"
    }
   ],
   "source": [
    "df.head()"
   ]
  },
  {
   "cell_type": "code",
   "execution_count": 67,
   "metadata": {
    "id": "GYwA9WfgOr5Z"
   },
   "outputs": [],
   "source": [
    "df['comment'] = df['comment'].apply(lambda x: process_text(x, emoji_dict, teen_dict, wrong_lst))"
   ]
  },
  {
   "cell_type": "code",
   "execution_count": 68,
   "metadata": {
    "id": "QZUx1Da3UB41"
   },
   "outputs": [],
   "source": [
    "df['comment'] = df['comment'].apply(lambda x: covert_unicode(x))"
   ]
  },
  {
   "cell_type": "code",
   "execution_count": 69,
   "metadata": {
    "id": "xVTUsDf7PNGy"
   },
   "outputs": [],
   "source": [
    "df['comment'] = df['comment'].apply(lambda x: process_special_word(x))"
   ]
  },
  {
   "cell_type": "code",
   "execution_count": 70,
   "metadata": {
    "id": "BXWLT5acXsjn"
   },
   "outputs": [],
   "source": [
    "df['comment'] = df['comment'].apply(lambda x: process_postag_thesea(x))"
   ]
  },
  {
   "cell_type": "code",
   "execution_count": 71,
   "metadata": {
    "id": "MO-h2ZF-X14W"
   },
   "outputs": [],
   "source": [
    "df['comment'] = df['comment'].apply(lambda x: remove_stopword(x, stopwords_lst))"
   ]
  },
  {
   "cell_type": "code",
   "execution_count": 72,
   "metadata": {
    "id": "xNpcqKTWfk3l"
   },
   "outputs": [],
   "source": [
    "df.to_csv('preprocessed_df_3.csv', index=False)"
   ]
  },
  {
   "cell_type": "code",
   "execution_count": null,
   "metadata": {},
   "outputs": [],
   "source": [
    "def word_cloud()"
   ]
  }
 ],
 "metadata": {
  "colab": {
   "provenance": []
  },
  "kernelspec": {
   "display_name": "Python 3",
   "language": "python",
   "name": "python3"
  },
  "language_info": {
   "codemirror_mode": {
    "name": "ipython",
    "version": 3
   },
   "file_extension": ".py",
   "mimetype": "text/x-python",
   "name": "python",
   "nbconvert_exporter": "python",
   "pygments_lexer": "ipython3",
   "version": "3.6.8"
  }
 },
 "nbformat": 4,
 "nbformat_minor": 1
}
